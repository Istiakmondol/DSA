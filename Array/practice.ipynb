{
 "cells": [
  {
   "cell_type": "markdown",
   "id": "28b33cff",
   "metadata": {},
   "source": [
    "# Find Minimum and Maximum in an Array"
   ]
  },
  {
   "cell_type": "code",
   "execution_count": 2,
   "id": "6b6286f1",
   "metadata": {},
   "outputs": [
    {
     "name": "stdout",
     "output_type": "stream",
     "text": [
      "Maximum=7 and Minimum=0\n"
     ]
    }
   ],
   "source": [
    "arr=[3, 1, 7, 0, 5]\n",
    "min_val=arr[0]\n",
    "max_val=arr[0]\n",
    "for i in range(len(arr)):\n",
    "    if arr[i]>max_val:\n",
    "        max_val=arr[i]\n",
    "    if arr[i]<min_val:\n",
    "        min_val=arr[i]\n",
    "print(f\"Maximum={max_val} and Minimum={min_val}\")"
   ]
  },
  {
   "cell_type": "markdown",
   "id": "690dabfd",
   "metadata": {},
   "source": [
    "# Reverse an Array"
   ]
  },
  {
   "cell_type": "code",
   "execution_count": null,
   "id": "c4287d33",
   "metadata": {},
   "outputs": [
    {
     "name": "stdout",
     "output_type": "stream",
     "text": [
      "[8, 7, 6, 5, 4, 3, 2, 1]\n"
     ]
    }
   ],
   "source": [
    "arr=[1,2,3,4,5,6,7,8]\n",
    "limit=len(arr)//2\n",
    "for i in range(limit):\n",
    "    left=arr[i]\n",
    "    right=arr[len(arr)-1-i]\n",
    "    arr[i], arr[len(arr)-1-i]= right, left\n",
    "print(arr)\n",
    "# Complexity is O(n) Linear"
   ]
  },
  {
   "cell_type": "markdown",
   "id": "29cf60c4",
   "metadata": {},
   "source": [
    "# Rotate Array\n",
    "Rotate the elements of an array to the right by k steps. That means, every element is shifted to the right by k places, and elements that fall off the end come back to the front."
   ]
  },
  {
   "cell_type": "code",
   "execution_count": null,
   "id": "b25802ad",
   "metadata": {},
   "outputs": [
    {
     "name": "stdout",
     "output_type": "stream",
     "text": [
      "[1, 2, 3, 4, 5, 6, 7]\n",
      "roted element right side by 4 step: \n",
      "[4, 5, 6, 7, 1, 2, 3]\n"
     ]
    }
   ],
   "source": [
    "arr=[1, 2, 3, 4, 5, 6, 7]\n",
    "k=int(input(\"Enter the Value of k (Shift): \"))\n",
    "print(arr)\n",
    "#Reversing the Whole Array\n",
    "limit=len(arr)//2\n",
    "for i in range(limit):\n",
    "    left=arr[i]\n",
    "    right=arr[len(arr)-1-i]\n",
    "    arr[i], arr[len(arr)-1-i]= right, left\n",
    "\n",
    "#Reversing the first k element\n",
    "limit=k//2\n",
    "for i in range(limit):\n",
    "    left=arr[i]\n",
    "    right=arr[k-1-i]\n",
    "    arr[i], arr[k-1-i]= right, left\n",
    "\n",
    "#Reversing the remaining n-k elements\n",
    "limit=(len(arr)-k)//2\n",
    "stop=(k+((len(arr)-k)//2))\n",
    "flag=1\n",
    "for j in range(k,stop):\n",
    "    left=arr[j]\n",
    "    right=arr[len(arr)-flag]\n",
    "    arr[j], arr[len(arr)-flag]= right, left\n",
    "    flag+=1\n",
    "print(f\"roted element right side by {k} step: \")\n",
    "print(arr)\n",
    "\n",
    "# Complexity is O(n) Linear"
   ]
  },
  {
   "cell_type": "markdown",
   "id": "472587e5",
   "metadata": {},
   "source": [
    "# Find Duplicates\n",
    "Given an array of integers, return all the elements that appear more than once."
   ]
  },
  {
   "cell_type": "code",
   "execution_count": null,
   "id": "ae7d4e89",
   "metadata": {},
   "outputs": [
    {
     "name": "stdout",
     "output_type": "stream",
     "text": [
      "[2, 3]\n"
     ]
    }
   ],
   "source": [
    "arr=[4, 3, 2, 7, 8, 2, 3, 1]\n",
    "bag=set()\n",
    "duplicate=set()\n",
    "for i in arr:\n",
    "    if i in bag:\n",
    "        duplicate.add(i)\n",
    "    else:\n",
    "        bag.add(i)\n",
    "print(list(duplicate))\n",
    "# Complexity is O(n) Linear"
   ]
  },
  {
   "cell_type": "code",
   "execution_count": null,
   "id": "93171d08",
   "metadata": {},
   "outputs": [
    {
     "name": "stdout",
     "output_type": "stream",
     "text": [
      "[2, 3]\n"
     ]
    }
   ],
   "source": [
    "arr=[4, 3, 2, 7, 8, 2, 3, 1]\n",
    "duplicate=set()\n",
    "for i in range(len(arr)):\n",
    "    bag=arr[i]\n",
    "    if i==0:\n",
    "        if bag==arr[i+1:]:\n",
    "            duplicate.add(bag)\n",
    "    elif i>0 and i<(len(arr)-1):\n",
    "        if bag in arr[0:i-1:1]:\n",
    "            duplicate.add(bag)\n",
    "        if bag in arr[i+1:]:\n",
    "            duplicate.add(bag)\n",
    "    else:\n",
    "        if bag in arr[0:i-1:1]:\n",
    "            duplicate.add(bag)\n",
    "print(list(duplicate))\n",
    "# Complexity is O(n^2) Quadratic\n"
   ]
  },
  {
   "cell_type": "markdown",
   "id": "341e2020",
   "metadata": {},
   "source": [
    "# Merge Two Sorted Arrays\n",
    "Given two sorted arrays arr1 and arr2, merge them into one sorted array."
   ]
  },
  {
   "cell_type": "code",
   "execution_count": 76,
   "id": "dd3d11d2",
   "metadata": {},
   "outputs": [
    {
     "name": "stdout",
     "output_type": "stream",
     "text": [
      "[1, 2, 3, 4, 5, 6, 7, 8, 9, 10]\n"
     ]
    }
   ],
   "source": [
    "arr1=[1, 3, 5, 7, 9]\n",
    "arr2=[2, 4, 6, 8, 10]\n",
    "merged=[]\n",
    "i,j=0,0\n",
    "while i<len(arr1) and j<len(arr2):\n",
    "    if arr1[i]<arr2[j]:\n",
    "        merged.append(arr1[i])\n",
    "        i+=1\n",
    "    elif arr1[i]>arr2[j]:\n",
    "        merged.append(arr2[j])\n",
    "        j+=1\n",
    "    else:\n",
    "        merged.append(arr1[i])\n",
    "        merged.append(arr2[j])\n",
    "        i+=1\n",
    "        j+=1\n",
    "\n",
    "merged.extend(arr1[i:])\n",
    "merged.extend(arr2[j:])\n",
    "\n",
    "del(arr1,arr2)\n",
    "\n",
    "print(merged)"
   ]
  },
  {
   "cell_type": "markdown",
   "id": "bec7e8f3",
   "metadata": {},
   "source": [
    "# Leetcode problem: 896. Monotonic Array\n",
    "Complexity O(n)"
   ]
  },
  {
   "cell_type": "code",
   "execution_count": null,
   "id": "6fb6545f",
   "metadata": {},
   "outputs": [
    {
     "name": "stdout",
     "output_type": "stream",
     "text": [
      "True\n"
     ]
    }
   ],
   "source": [
    "class Solution:\n",
    "    def isMonotonic(self, nums):\n",
    "        i=0\n",
    "        j=1\n",
    "        base=0\n",
    "        flag1=0\n",
    "        flag2=0\n",
    "        while(i<len(nums) and j<len(nums)):\n",
    "            if nums[i]>nums[j]:\n",
    "                flag1+=1\n",
    "                if flag2>0:\n",
    "                    return False\n",
    "                i+=1\n",
    "                j=i+1\n",
    "            elif nums[i]<nums[j]:\n",
    "                flag2+=1\n",
    "                if flag1>0:\n",
    "                    return False\n",
    "                i+=1\n",
    "                j=i+1\n",
    "            elif nums[i]==nums[j]:\n",
    "                if flag1>0 and flag2>0:\n",
    "                    return False\n",
    "                i+=1\n",
    "                j=i+1\n",
    "\n",
    "        return True       \n",
    "\n",
    "test=Solution()\n",
    "print(test.isMonotonic([6,5,4,4]))\n"
   ]
  },
  {
   "cell_type": "markdown",
   "id": "10f86cee",
   "metadata": {},
   "source": [
    "# Leetcode Problem: 561. Array Partition\n",
    "Complexity O(n)"
   ]
  },
  {
   "cell_type": "code",
   "execution_count": 12,
   "id": "6b5a2932",
   "metadata": {},
   "outputs": [
    {
     "name": "stdout",
     "output_type": "stream",
     "text": [
      "4\n"
     ]
    }
   ],
   "source": [
    "class Solution:\n",
    "    def arrayPairSum(self, nums):\n",
    "        nums.sort()\n",
    "        return sum(nums[::2])\n",
    "            \n",
    "\n",
    "test=Solution()\n",
    "result=test.arrayPairSum([1,4,3,2])\n",
    "print(result)\n",
    "\n",
    "            \n",
    "            "
   ]
  }
 ],
 "metadata": {
  "kernelspec": {
   "display_name": "base",
   "language": "python",
   "name": "python3"
  },
  "language_info": {
   "codemirror_mode": {
    "name": "ipython",
    "version": 3
   },
   "file_extension": ".py",
   "mimetype": "text/x-python",
   "name": "python",
   "nbconvert_exporter": "python",
   "pygments_lexer": "ipython3",
   "version": "3.12.7"
  }
 },
 "nbformat": 4,
 "nbformat_minor": 5
}
